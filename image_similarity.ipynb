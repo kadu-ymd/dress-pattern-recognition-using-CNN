{
 "cells": [
  {
   "cell_type": "code",
   "execution_count": 1,
   "metadata": {},
   "outputs": [
    {
     "name": "stderr",
     "output_type": "stream",
     "text": [
      "Using TensorFlow backend.\n"
     ]
    }
   ],
   "source": [
    "import os\n",
    "import numpy as np\n",
    "import pandas as pd\n",
    "import numpy as np\n",
    "import matplotlib.pyplot as plt\n",
    "\n",
    "import keras.utils as image\n",
    "from keras.models import model_from_json\n",
    "\n",
    "%matplotlib inline"
   ]
  },
  {
   "cell_type": "markdown",
   "metadata": {},
   "source": [
    "Se não funcionar (`AttributeError`), verificar se a versão do `h5py` é 2.x, pois isso pode causar incompatibilidade."
   ]
  },
  {
   "cell_type": "code",
   "execution_count": null,
   "metadata": {},
   "outputs": [
    {
     "name": "stdout",
     "output_type": "stream",
     "text": [
      "Loaded model from disk.\n"
     ]
    }
   ],
   "source": [
    "# Carregando o modelo treinado (model.json), feito no arquivo model.ipynb\n",
    "with open('model.json', 'r') as json_file:\n",
    "    loaded_model_json = json_file.read()\n",
    "\n",
    "loaded_model = model_from_json(loaded_model_json)\n",
    "\n",
    "loaded_model.load_weights(\"model.h5\")\n",
    "\n",
    "print(\"Loaded model from disk.\")"
   ]
  },
  {
   "cell_type": "code",
   "execution_count": 6,
   "metadata": {},
   "outputs": [
    {
     "name": "stdout",
     "output_type": "stream",
     "text": [
      "Found 6845 images belonging to 6 classes.\n"
     ]
    }
   ],
   "source": [
    "from keras.preprocessing.image import ImageDataGenerator\n",
    "\n",
    "train_datagen = ImageDataGenerator(rescale=1. / 255,\n",
    "                                   shear_range=0.2,\n",
    "                                   zoom_range=0.2,\n",
    "                                   horizontal_flip=True)\n",
    "\n",
    "training_set = train_datagen.flow_from_directory('manipulated_data/images',\n",
    "                                                 target_size = (64, 64),\n",
    "                                                 batch_size = 32,\n",
    "                                                 class_mode = 'categorical')"
   ]
  },
  {
   "cell_type": "code",
   "execution_count": 22,
   "metadata": {},
   "outputs": [
    {
     "data": {
      "text/plain": [
       "{'animal_print': 0,\n",
       " 'checkers': 1,\n",
       " 'floral': 2,\n",
       " 'pattern': 3,\n",
       " 'solid': 4,\n",
       " 'stripes': 5}"
      ]
     },
     "execution_count": 22,
     "metadata": {},
     "output_type": "execute_result"
    }
   ],
   "source": [
    "from tensorflow.keras.preprocessing import image\n",
    "\n",
    "test_image = image.load_img('manipulated_data/images/pattern/0de1181f06cf4b2a8a22bfebc80bf473.jpg', target_size=(64, 64))\n",
    "test_image = image.img_to_array(test_image)\n",
    "test_image = np.expand_dims(test_image, axis=0)\n",
    "\n",
    "result = loaded_model.predict(test_image)\n",
    "training_set.class_indices"
   ]
  },
  {
   "cell_type": "code",
   "execution_count": 23,
   "metadata": {},
   "outputs": [],
   "source": [
    "index = np.where(result[0] == 1)[0][0]"
   ]
  },
  {
   "cell_type": "code",
   "execution_count": 24,
   "metadata": {},
   "outputs": [
    {
     "data": {
      "text/plain": [
       "'pattern'"
      ]
     },
     "execution_count": 24,
     "metadata": {},
     "output_type": "execute_result"
    }
   ],
   "source": [
    "predicted_category = list(training_set.class_indices.keys())[list(training_set.class_indices.values()).index(index)]\n",
    "predicted_category"
   ]
  },
  {
   "cell_type": "markdown",
   "metadata": {},
   "source": [
    "### Teste"
   ]
  },
  {
   "cell_type": "code",
   "execution_count": null,
   "metadata": {},
   "outputs": [],
   "source": [
    "folder_dir = \"manipulated_data/images/animal_print\"\n",
    "dict_classified = {\"id\": [], \"file_name\": [], \"Details\": []}\n",
    "\n",
    "for id, filename in enumerate(os.listdir(folder_dir)):\n",
    "    test_image = image.load_img(os.path.join(folder_dir, filename),\n",
    "                                target_size=(64, 64))\n",
    "\n",
    "    test_image = image.img_to_array(test_image)\n",
    "    test_image = np.expand_dims(test_image, axis=0)\n",
    "    result = loaded_model.predict(test_image)\n",
    "\n",
    "    predicted_category = \"\"\n",
    "\n",
    "    if len(np.where(result[0] == 1)[0]) >= 1:\n",
    "        index = np.where(result[0] == 1)[0][0]\n",
    "        predicted_category = list(training_set.class_indices.keys())[list(\n",
    "            training_set.class_indices.values()).index(index)]\n",
    "\n",
    "    dict_classified[\"id\"].append(id)\n",
    "    dict_classified[\"file_name\"].append(filename)\n",
    "    dict_classified[\"Details\"].append(predicted_category)\n",
    "\n",
    "df_classified = pd.DataFrame(dict_classified)"
   ]
  },
  {
   "cell_type": "code",
   "execution_count": 54,
   "metadata": {},
   "outputs": [
    {
     "name": "stdout",
     "output_type": "stream",
     "text": [
      "Acurácia para a estampa 'animal_print': 36.43%\n"
     ]
    }
   ],
   "source": [
    "details_classified = df_classified.Details.value_counts().to_dict()\n",
    "accuracy = details_classified[\"animal_print\"] / (len(os.listdir(folder_dir)))\n",
    "print(f\"Acurácia para a estampa 'animal_print': {accuracy*100:.2f}%\")"
   ]
  }
 ],
 "metadata": {
  "kernelspec": {
   "display_name": "env",
   "language": "python",
   "name": "python3"
  },
  "language_info": {
   "codemirror_mode": {
    "name": "ipython",
    "version": 3
   },
   "file_extension": ".py",
   "mimetype": "text/x-python",
   "name": "python",
   "nbconvert_exporter": "python",
   "pygments_lexer": "ipython3",
   "version": "3.7.9"
  }
 },
 "nbformat": 4,
 "nbformat_minor": 2
}
